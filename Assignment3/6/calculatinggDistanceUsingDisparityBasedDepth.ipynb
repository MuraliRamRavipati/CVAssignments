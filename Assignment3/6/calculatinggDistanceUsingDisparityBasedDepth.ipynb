{
 "cells": [
  {
   "cell_type": "code",
   "execution_count": 4,
   "source": [
    "import cv2\r\n",
    "import glob\r\n",
    "import numpy as np\r\n",
    "import matplotlib.pyplot as plt\r\n",
    "from scipy.signal import fftconvolve,convolve2d\r\n",
    "import math\r\n",
    "from PIL import Image\r\n",
    "import numpy as np \r\n",
    "import copy\r\n",
    "from collections import deque\r\n"
   ],
   "outputs": [],
   "metadata": {}
  },
  {
   "cell_type": "code",
   "execution_count": 5,
   "source": [
    "# Image 1 is original image with marker\r\n",
    "# Image 2 is translated with marker\r\n",
    "img= cv2.imread(r\"I:\\murali\\Assignment3\\question6\\images\\image1.jpg\", 0)\r\n",
    "img2= cv2.imread(r\"I:\\murali\\Assignment3\\question6\\images\\image2.jpg\", 0)\r\n",
    "plt.figure(figsize = (20,2))\r\n",
    "# plt.imshow(img,cmap='gray', vmin=0, vmax=255)\r\n",
    "# plt.show()\r\n",
    "plt.figure(figsize = (20,2))\r\n",
    "# plt.imshow(img2,cmap='gray', vmin=0, vmax=255)\r\n",
    "# plt.show()"
   ],
   "outputs": [
    {
     "output_type": "execute_result",
     "data": {
      "text/plain": [
       "<Figure size 1440x144 with 0 Axes>"
      ]
     },
     "metadata": {},
     "execution_count": 5
    },
    {
     "output_type": "display_data",
     "data": {
      "text/plain": [
       "<Figure size 1440x144 with 0 Axes>"
      ]
     },
     "metadata": {}
    },
    {
     "output_type": "display_data",
     "data": {
      "text/plain": [
       "<Figure size 1440x144 with 0 Axes>"
      ]
     },
     "metadata": {}
    }
   ],
   "metadata": {}
  },
  {
   "cell_type": "code",
   "execution_count": 6,
   "source": [
    "\r\n",
    "D=457\r\n",
    "T=25\r\n",
    "b=546.1\r\n",
    "f=1203.54736624058 \r\n",
    "z=(b*f)/(D-T) \r\n",
    "print('The Disparity based depth estimation is '+str(z)+'mm')"
   ],
   "outputs": [
    {
     "output_type": "stream",
     "name": "stdout",
     "text": [
      "The Disparity based depth estimation is 1521.428742370326mm\n"
     ]
    }
   ],
   "metadata": {}
  }
 ],
 "metadata": {
  "orig_nbformat": 4,
  "language_info": {
   "name": "python",
   "version": "3.9.7",
   "mimetype": "text/x-python",
   "codemirror_mode": {
    "name": "ipython",
    "version": 3
   },
   "pygments_lexer": "ipython3",
   "nbconvert_exporter": "python",
   "file_extension": ".py"
  },
  "kernelspec": {
   "name": "python3",
   "display_name": "Python 3.9.7 64-bit"
  },
  "interpreter": {
   "hash": "63fd5069d213b44bf678585dea6b12cceca9941eaf7f819626cde1f2670de90d"
  }
 },
 "nbformat": 4,
 "nbformat_minor": 2
}