{
 "cells": [
  {
   "cell_type": "code",
   "execution_count": 8,
   "metadata": {},
   "outputs": [],
   "source": [
    "import cv2\n",
    "import depthai as dai\n",
    "import time\n",
    "from depthai_sdk.fps import FPSHandler\n",
    "import pytesseract\n",
    "import webbrowser\n",
    "\n"
   ]
  },
  {
   "cell_type": "code",
   "execution_count": 9,
   "metadata": {},
   "outputs": [],
   "source": [
    "pytesseract.pytesseract.tesseract_cmd = r\"C:\\Program Files\\Tesseract-OCR\\tesseract.exe\"\n",
    "\n",
    "cascPath = \"haarcascade_frontalface_default.xml\"\n",
    "faceCascade = cv2.CascadeClassifier(cascPath)\n",
    "\n",
    "image = cv2.imread(r\"I:\\murali\\Assignment4\\question2\\image.png\",1) \n",
    "gray = cv2.cvtColor(image, cv2.COLOR_BGR2GRAY)"
   ]
  },
  {
   "cell_type": "code",
   "execution_count": 11,
   "metadata": {},
   "outputs": [],
   "source": [
    "\n",
    "# Create pipeline\n",
    "pipeline = dai.Pipeline()\n",
    "\n",
    "# Define source and output\n",
    "camRgb = pipeline.create(dai.node.ColorCamera)\n",
    "xoutVideo = pipeline.create(dai.node.XLinkOut)\n",
    "\n",
    "xoutVideo.setStreamName(\"video\")\n",
    "\n",
    "# Properties\n",
    "camRgb.setBoardSocket(dai.CameraBoardSocket.RGB)\n",
    "camRgb.setResolution(dai.ColorCameraProperties.SensorResolution.THE_1080_P)\n",
    "camRgb.setVideoSize(1280,720)\n",
    "\n",
    "xoutVideo.input.setBlocking(False)\n",
    "xoutVideo.input.setQueueSize(1)\n",
    "\n",
    "# Linking\n",
    "camRgb.video.link(xoutVideo.input)\n",
    "# Connect to device and start pipeline\n",
    "start_time = time.time()\n",
    "x = 1\n",
    "counter = 0\n",
    "count=0\n",
    "with dai.Device(pipeline) as device:\n",
    "\n",
    "    video = device.getOutputQueue(name=\"video\", maxSize=1, blocking=False)\n",
    "\n",
    "    while True:\n",
    "        videoIn = video.get()\n",
    "        Frame=videoIn.getCvFrame()\n",
    "        counter+=1\n",
    "        font = cv2.FONT_HERSHEY_SIMPLEX\n",
    "        if (time.time() - start_time) >= 1 :\n",
    "                fps=counter\n",
    "                counter = 0\n",
    "                start_time = time.time()\n",
    "        cv2.putText(Frame, str(fps)+' '+str(camRgb.getVideoSize()), (7, 70), font, 1, (100, 255, 0), 1, cv2.LINE_AA)\n",
    "        cv2.imshow(\"video\", Frame)\n",
    "        if cv2.waitKey(1)==ord('p'):\n",
    "            count+=1\n",
    "            cv2.imwrite(R'I:\\murali\\Assignment3\\question6\\images'+'\\image'+str(count)+'.jpg',Frame)\n",
    "            img = cv2.imread(R'I:\\murali\\Assignment3\\question6\\images\\image.png')\n",
    "            img = cv2.imread(R'I:\\murali\\Assignment4\\question2\\iamge.png')\n",
    "\n",
    "            ret, thresh1 = cv2.threshold(gray, 0, 255, cv2.THRESH_OTSU | cv2.THRESH_BINARY_INV)\n",
    "            rect_kernel = cv2.getStructuringElement(cv2.MORPH_RECT, (18, 18))\n",
    "            dilation = cv2.dilate(thresh1, rect_kernel, iterations = 1)\n",
    "            contours, hierarchy = cv2.findContours(dilation, cv2.RETR_EXTERNAL, cv2.CHAIN_APPROX_NONE)\n",
    "\n",
    "            image2 = img.copy() \n",
    "            file = open(\"information.txt\", \"w+\")\n",
    "            file.write(\"\")\n",
    "            file.close()\n",
    "            for cnt in contours:\n",
    "                x, y, w, h = cv2.boundingRect(cnt)\n",
    "                rect = cv2.rectangle(image2, (x, y), (x + w, y + h), (0, 255, 0), 2)\n",
    "                cropped = image2[y:y + h, x:x + w]\n",
    "                file = open(\"information.txt\", \"a\")\n",
    "                text = pytesseract.image_to_string(cropped)\n",
    "                file.write(text)\n",
    "                file.close\n",
    "\n",
    "            detect = cv2.QRCodeDetector()\n",
    "            url_data, bbox, straight_qrcode = detect.detectAndDecode(img)\n",
    "\n",
    "\n",
    "        if cv2.waitKey(1) == ord('q'):\n",
    "            break"
   ]
  },
  {
   "cell_type": "code",
   "execution_count": null,
   "metadata": {},
   "outputs": [],
   "source": [
    "webbrowser.open(val)"
   ]
  }
 ],
 "metadata": {
  "interpreter": {
   "hash": "52e41782f98fb38972ac69e0e4a1cd20464197d6de4aa3423c902988ca4cc3bb"
  },
  "kernelspec": {
   "display_name": "Python 3.9.7 64-bit ('cvFall22': venv)",
   "name": "python3"
  },
  "language_info": {
   "codemirror_mode": {
    "name": "ipython",
    "version": 3
   },
   "file_extension": ".py",
   "mimetype": "text/x-python",
   "name": "python",
   "nbconvert_exporter": "python",
   "pygments_lexer": "ipython3",
   "version": "3.9.7"
  },
  "orig_nbformat": 4
 },
 "nbformat": 4,
 "nbformat_minor": 2
}
